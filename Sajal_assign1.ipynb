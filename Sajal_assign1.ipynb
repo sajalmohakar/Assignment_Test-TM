{
  "nbformat": 4,
  "nbformat_minor": 0,
  "metadata": {
    "colab": {
      "provenance": []
    },
    "kernelspec": {
      "name": "python3",
      "display_name": "Python 3"
    },
    "language_info": {
      "name": "python"
    }
  },
  "cells": [
    {
      "cell_type": "markdown",
      "source": [
        "Ques 1."
      ],
      "metadata": {
        "id": "UFn0rIYDvp6p"
      }
    },
    {
      "cell_type": "code",
      "execution_count": 1,
      "metadata": {
        "colab": {
          "base_uri": "https://localhost:8080/"
        },
        "id": "lrHp9ZcavMDY",
        "outputId": "850213be-fe9f-470e-f9f0-bc4b7841a8f4"
      },
      "outputs": [
        {
          "output_type": "stream",
          "name": "stdout",
          "text": [
            "11\n"
          ]
        }
      ],
      "source": [
        "exam = 5 + 3 * 2\n",
        "print(exam)"
      ]
    },
    {
      "cell_type": "markdown",
      "source": [
        "Ques. 2"
      ],
      "metadata": {
        "id": "heZTdAbyvvh_"
      }
    },
    {
      "cell_type": "code",
      "source": [
        "x = 5\n",
        "y = 10\n",
        "x += y\n",
        "print(x)"
      ],
      "metadata": {
        "colab": {
          "base_uri": "https://localhost:8080/"
        },
        "id": "tSYLz8wfvxOO",
        "outputId": "e97568d9-85cd-4193-c8be-cc8d2c93c697"
      },
      "execution_count": 2,
      "outputs": [
        {
          "output_type": "stream",
          "name": "stdout",
          "text": [
            "15\n"
          ]
        }
      ]
    },
    {
      "cell_type": "markdown",
      "source": [
        "Ques. 3"
      ],
      "metadata": {
        "id": "exU4zyAMwB9C"
      }
    },
    {
      "cell_type": "code",
      "source": [
        "(10 > 5) and (not (5 > 10))"
      ],
      "metadata": {
        "colab": {
          "base_uri": "https://localhost:8080/"
        },
        "id": "XBLicpgHwIDz",
        "outputId": "651a95f5-7e66-4f94-f7dc-1275dd38a1e5"
      },
      "execution_count": 3,
      "outputs": [
        {
          "output_type": "execute_result",
          "data": {
            "text/plain": [
              "True"
            ]
          },
          "metadata": {},
          "execution_count": 3
        }
      ]
    },
    {
      "cell_type": "markdown",
      "source": [
        "Ques no. 4"
      ],
      "metadata": {
        "id": "HgOTPwSvwHLT"
      }
    },
    {
      "cell_type": "code",
      "source": [
        "a= 7 / 2\n",
        "print(a)"
      ],
      "metadata": {
        "colab": {
          "base_uri": "https://localhost:8080/"
        },
        "id": "4B5LnJu_wcvS",
        "outputId": "944fc167-c176-46a4-e543-b9b1b6955f0b"
      },
      "execution_count": 4,
      "outputs": [
        {
          "output_type": "stream",
          "name": "stdout",
          "text": [
            "3.5\n"
          ]
        }
      ]
    },
    {
      "cell_type": "markdown",
      "source": [
        "Ques no. 5"
      ],
      "metadata": {
        "id": "LZNnAs2wwilP"
      }
    },
    {
      "cell_type": "code",
      "source": [
        "x = 4//2\n",
        "print(x)"
      ],
      "metadata": {
        "colab": {
          "base_uri": "https://localhost:8080/"
        },
        "id": "AXKIY-TLwldk",
        "outputId": "821202c5-e396-4ed1-f3e9-0724e4b546ea"
      },
      "execution_count": 6,
      "outputs": [
        {
          "output_type": "stream",
          "name": "stdout",
          "text": [
            "2\n"
          ]
        }
      ]
    },
    {
      "cell_type": "markdown",
      "source": [
        "Ques no. 6"
      ],
      "metadata": {
        "id": "2-jH6Pi1w22n"
      }
    },
    {
      "cell_type": "code",
      "source": [
        "a = [1, 2, 3]\n",
        "b = a\n",
        "b[0] = 4\n",
        "print(a)"
      ],
      "metadata": {
        "colab": {
          "base_uri": "https://localhost:8080/"
        },
        "id": "jdrszd1Xw4gl",
        "outputId": "63b82557-972a-4ffd-b9cb-5148222aad3d"
      },
      "execution_count": 7,
      "outputs": [
        {
          "output_type": "stream",
          "name": "stdout",
          "text": [
            "[4, 2, 3]\n"
          ]
        }
      ]
    },
    {
      "cell_type": "markdown",
      "source": [
        "Ques no.7"
      ],
      "metadata": {
        "id": "WcWAKO5jxJs6"
      }
    },
    {
      "cell_type": "code",
      "source": [
        "s = \"hello\"\n",
        "print(s[1:4])"
      ],
      "metadata": {
        "colab": {
          "base_uri": "https://localhost:8080/"
        },
        "id": "Icqv65R0xNYX",
        "outputId": "dc75bc0f-10fd-4816-95b9-c282e39b7d48"
      },
      "execution_count": 8,
      "outputs": [
        {
          "output_type": "stream",
          "name": "stdout",
          "text": [
            "ell\n"
          ]
        }
      ]
    },
    {
      "cell_type": "markdown",
      "source": [
        "Ques no. 8"
      ],
      "metadata": {
        "id": "e6I9iQa1xe2x"
      }
    },
    {
      "cell_type": "code",
      "source": [
        "result = 2**3**2\n",
        "print(result)"
      ],
      "metadata": {
        "colab": {
          "base_uri": "https://localhost:8080/"
        },
        "id": "yHMTspOExgZw",
        "outputId": "85535167-9b87-4b1f-c22e-0b4298ec8af3"
      },
      "execution_count": 10,
      "outputs": [
        {
          "output_type": "stream",
          "name": "stdout",
          "text": [
            "512\n"
          ]
        }
      ]
    },
    {
      "cell_type": "markdown",
      "source": [
        "Ques no. 9"
      ],
      "metadata": {
        "id": "S1OOzBUMyDdN"
      }
    },
    {
      "cell_type": "code",
      "source": [
        "# a = [1,2,3,4,5]\n",
        "# print([::-1])"
      ],
      "metadata": {
        "colab": {
          "base_uri": "https://localhost:8080/",
          "height": 106
        },
        "id": "YODZZA51yFMc",
        "outputId": "d46828da-7d86-4b19-9e12-1e7f45b228a7"
      },
      "execution_count": 12,
      "outputs": [
        {
          "output_type": "error",
          "ename": "SyntaxError",
          "evalue": "invalid syntax (<ipython-input-12-a1d58b21a312>, line 2)",
          "traceback": [
            "\u001b[0;36m  File \u001b[0;32m\"<ipython-input-12-a1d58b21a312>\"\u001b[0;36m, line \u001b[0;32m2\u001b[0m\n\u001b[0;31m    print([::-1])\u001b[0m\n\u001b[0m           ^\u001b[0m\n\u001b[0;31mSyntaxError\u001b[0m\u001b[0;31m:\u001b[0m invalid syntax\n"
          ]
        }
      ]
    },
    {
      "cell_type": "markdown",
      "source": [
        "Ques no. 10"
      ],
      "metadata": {
        "id": "HOC-Qw_1ybPT"
      }
    },
    {
      "cell_type": "code",
      "source": [
        "a = 10%3\n",
        "print(a)"
      ],
      "metadata": {
        "colab": {
          "base_uri": "https://localhost:8080/"
        },
        "id": "itFEIS6pyszq",
        "outputId": "d167485c-7016-438b-cd4d-ec3f47e5411c"
      },
      "execution_count": 13,
      "outputs": [
        {
          "output_type": "stream",
          "name": "stdout",
          "text": [
            "1\n"
          ]
        }
      ]
    },
    {
      "cell_type": "markdown",
      "source": [
        "Ques no. 11"
      ],
      "metadata": {
        "id": "HCHjs0wmyxy8"
      }
    },
    {
      "cell_type": "code",
      "source": [
        "x = [1,2,3]\n",
        "y = [1,2,3]\n",
        "print(x==y)\n",
        "print(x is y)"
      ],
      "metadata": {
        "colab": {
          "base_uri": "https://localhost:8080/"
        },
        "id": "bA5pJRply2IV",
        "outputId": "38ab2493-a165-4c43-b242-92174cbcce95"
      },
      "execution_count": 14,
      "outputs": [
        {
          "output_type": "stream",
          "name": "stdout",
          "text": [
            "True\n",
            "False\n"
          ]
        }
      ]
    },
    {
      "cell_type": "markdown",
      "source": [
        "Ques no. 12"
      ],
      "metadata": {
        "id": "ye2Lo99zzEap"
      }
    },
    {
      "cell_type": "code",
      "source": [
        "x = \"Python\"\n",
        "y = x * 3\n",
        "print(y)"
      ],
      "metadata": {
        "colab": {
          "base_uri": "https://localhost:8080/"
        },
        "id": "LDC3NxZhzGs7",
        "outputId": "54592663-0d2c-4353-9621-4e3f2cc5f576"
      },
      "execution_count": 15,
      "outputs": [
        {
          "output_type": "stream",
          "name": "stdout",
          "text": [
            "PythonPythonPython\n"
          ]
        }
      ]
    },
    {
      "cell_type": "markdown",
      "source": [
        "Ques no. 13"
      ],
      "metadata": {
        "id": "99MKETV-zRPm"
      }
    },
    {
      "cell_type": "code",
      "source": [
        "x =True + 1\n",
        "print(x)"
      ],
      "metadata": {
        "colab": {
          "base_uri": "https://localhost:8080/"
        },
        "id": "4m-vxRjHzTYo",
        "outputId": "760bccf3-d074-4e8f-d5fd-83de7e8f9004"
      },
      "execution_count": 16,
      "outputs": [
        {
          "output_type": "stream",
          "name": "stdout",
          "text": [
            "2\n"
          ]
        }
      ]
    },
    {
      "cell_type": "markdown",
      "source": [
        "Ques no. 14"
      ],
      "metadata": {
        "id": "M8kSvW6jzcRX"
      }
    },
    {
      "cell_type": "code",
      "source": [
        "print('abc' < 'abd')"
      ],
      "metadata": {
        "colab": {
          "base_uri": "https://localhost:8080/"
        },
        "id": "Q-7M2UKwzeEf",
        "outputId": "a72bd5a8-5389-4a5b-f978-25cb47318d98"
      },
      "execution_count": 17,
      "outputs": [
        {
          "output_type": "stream",
          "name": "stdout",
          "text": [
            "True\n"
          ]
        }
      ]
    },
    {
      "cell_type": "markdown",
      "source": [
        "Ques no. 15"
      ],
      "metadata": {
        "id": "FmrP9ePrzlwL"
      }
    },
    {
      "cell_type": "code",
      "source": [
        "d = {'a': 1, 'b' : 2}\n",
        "d['c'] = 3\n",
        "print(d)"
      ],
      "metadata": {
        "colab": {
          "base_uri": "https://localhost:8080/"
        },
        "id": "j4JIC2LZznt9",
        "outputId": "129f3fc0-f5e1-4474-c0da-ba6141fbcc45"
      },
      "execution_count": 18,
      "outputs": [
        {
          "output_type": "stream",
          "name": "stdout",
          "text": [
            "{'a': 1, 'b': 2, 'c': 3}\n"
          ]
        }
      ]
    },
    {
      "cell_type": "markdown",
      "source": [
        "Ques no. 16"
      ],
      "metadata": {
        "id": "IkW_dvJCz8Km"
      }
    },
    {
      "cell_type": "code",
      "source": [
        "a = '123'\n",
        "a += '456'\n",
        "print(a)"
      ],
      "metadata": {
        "colab": {
          "base_uri": "https://localhost:8080/"
        },
        "id": "zAIQL7sMz-r6",
        "outputId": "01ef7274-a0a6-4835-927d-840a79123123"
      },
      "execution_count": 19,
      "outputs": [
        {
          "output_type": "stream",
          "name": "stdout",
          "text": [
            "123456\n"
          ]
        }
      ]
    },
    {
      "cell_type": "markdown",
      "source": [
        "Ques no. 17"
      ],
      "metadata": {
        "id": "Hlf0famo0MlW"
      }
    },
    {
      "cell_type": "code",
      "source": [
        "a = [1,2,3]\n",
        "b = a[:]\n",
        "b.append(4)\n",
        "print(a)\n",
        "print(b)"
      ],
      "metadata": {
        "colab": {
          "base_uri": "https://localhost:8080/"
        },
        "id": "JG7iFDJ10OUX",
        "outputId": "0e39a1d3-2773-483e-fc53-eadf55791d73"
      },
      "execution_count": 20,
      "outputs": [
        {
          "output_type": "stream",
          "name": "stdout",
          "text": [
            "[1, 2, 3]\n",
            "[1, 2, 3, 4]\n"
          ]
        }
      ]
    },
    {
      "cell_type": "markdown",
      "source": [
        "Ques no. 18"
      ],
      "metadata": {
        "id": "yRtQrimS0jW5"
      }
    },
    {
      "cell_type": "code",
      "source": [
        "a = 3 * (2+4) ** 2\n",
        "print(a)"
      ],
      "metadata": {
        "colab": {
          "base_uri": "https://localhost:8080/"
        },
        "id": "wh4m8dld0lnS",
        "outputId": "aae78c6f-4ff2-44b3-c31d-0e8b4f568ccb"
      },
      "execution_count": 21,
      "outputs": [
        {
          "output_type": "stream",
          "name": "stdout",
          "text": [
            "108\n"
          ]
        }
      ]
    },
    {
      "cell_type": "markdown",
      "source": [
        "Ques no. 19"
      ],
      "metadata": {
        "id": "OgAKYFqT1Ae1"
      }
    },
    {
      "cell_type": "code",
      "source": [
        "print(5 == 5.0)"
      ],
      "metadata": {
        "colab": {
          "base_uri": "https://localhost:8080/"
        },
        "id": "OuU7lYmH1CLD",
        "outputId": "ea5aa3ee-faf3-4a62-ba07-0163eff2e654"
      },
      "execution_count": 22,
      "outputs": [
        {
          "output_type": "stream",
          "name": "stdout",
          "text": [
            "True\n"
          ]
        }
      ]
    },
    {
      "cell_type": "markdown",
      "source": [
        "Ques no. 20"
      ],
      "metadata": {
        "id": "FHT1LuJY1H_u"
      }
    },
    {
      "cell_type": "code",
      "source": [
        "x = (1,2,3)\n",
        "y = x + (4,)\n",
        "print(y)"
      ],
      "metadata": {
        "colab": {
          "base_uri": "https://localhost:8080/"
        },
        "id": "T7XijWqb1LLt",
        "outputId": "026cd198-1e5a-4e37-af69-c4939391ecc6"
      },
      "execution_count": 25,
      "outputs": [
        {
          "output_type": "stream",
          "name": "stdout",
          "text": [
            "(1, 2, 3, 4)\n"
          ]
        }
      ]
    }
  ]
}