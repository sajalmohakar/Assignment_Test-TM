{
  "cells": [
    {
      "cell_type": "markdown",
      "metadata": {
        "id": "AcR_27Hh5QTe"
      },
      "source": [
        "Take three numbers 'x', 'y' and 'z' as input from the user and check which number is greater\n"
      ]
    },
    {
      "cell_type": "code",
      "execution_count": 6,
      "metadata": {
        "id": "ZqmjTxbD5QG4",
        "colab": {
          "base_uri": "https://localhost:8080/"
        },
        "outputId": "c66bfa81-4e66-42ae-e567-82761ca03215"
      },
      "outputs": [
        {
          "output_type": "stream",
          "name": "stdout",
          "text": [
            "Enter your x no.:25\n",
            "Enter your y no.30\n",
            "enter your z no.:12\n",
            "Y is greater than x and z\n"
          ]
        }
      ],
      "source": [
        "x=int(input('Enter your x no.:'))\n",
        "y=int(input('Enter your y no.'))\n",
        "z=int(input('enter your z no.:'))\n",
        "if x > y and x > z:\n",
        "    print(\"x is greater than y and z\")\n",
        "elif y > x and y > z:\n",
        "    print('Y is greater than x and z')\n",
        "else:\n",
        "    print(\"z is greater\")"
      ]
    },
    {
      "cell_type": "markdown",
      "metadata": {
        "id": "QgkCsQlx4c5Y"
      },
      "source": [
        "Take an alphabet as input from the user and check if the alphabet is a vowel, consonant or an exception\n",
        "\n",
        "\n",
        "Vowel - 'a','e','i','o','u'\n",
        "\n",
        "Exception - 'h', 'y'\n",
        "\n",
        "Consonant - rest other alphabets"
      ]
    },
    {
      "cell_type": "code",
      "source": [
        "alphabet = input(\"Enter the alphabet:\").lower()\n",
        "if len(alphabet) != 1 or not alphabet.isalpha():\n",
        "  print(\"Alphabet is not valid \")\n",
        "\n",
        "vowel = ['a','e','i','o','u']\n",
        "exception =['h','y']\n",
        "if alphabet in vowel:\n",
        "  print(f\"{alphabet} is vowel\")\n",
        "if alphabet in exception:\n",
        "  print(f\"{alphabet} is exception\")\n",
        "else:\n",
        "  print(f\"{alphabet} is an consonant\")"
      ],
      "metadata": {
        "colab": {
          "base_uri": "https://localhost:8080/"
        },
        "id": "8c69TilqiZNf",
        "outputId": "aadd98fb-cc66-4df0-cc2a-4694651cef92"
      },
      "execution_count": 17,
      "outputs": [
        {
          "output_type": "stream",
          "name": "stdout",
          "text": [
            "Enter the alphabet:A\n",
            "a is vowel\n",
            "a is an consonant\n"
          ]
        }
      ]
    },
    {
      "cell_type": "code",
      "source": [],
      "metadata": {
        "id": "i-uc2Jcliar8"
      },
      "execution_count": null,
      "outputs": []
    },
    {
      "cell_type": "markdown",
      "metadata": {
        "id": "5TqcIsuG4N4x"
      },
      "source": [
        "Write a program to check whether a number given by a user is divisible by 2 and 3 both\n",
        "\n"
      ]
    },
    {
      "cell_type": "code",
      "execution_count": 24,
      "metadata": {
        "id": "1TobEmuY4NkT",
        "colab": {
          "base_uri": "https://localhost:8080/"
        },
        "outputId": "d2094930-9b85-4977-f36b-1ac15139195e"
      },
      "outputs": [
        {
          "output_type": "stream",
          "name": "stdout",
          "text": [
            "Enter the number:12\n",
            "the 12 is divisible by both the 2 and 3\n"
          ]
        }
      ],
      "source": [
        "number = int(input(\"Enter the number:\"))\n",
        "if number % 3 == 0 and number%2==0:\n",
        "  print(f\"the {number} is divisible by both the 2 and 3\")\n",
        "else:\n",
        "  print(\"sorry, it is not divisible by 2 and 3\")"
      ]
    },
    {
      "cell_type": "markdown",
      "metadata": {
        "id": "Vl0l7eM93o-k"
      },
      "source": [
        "Write a program to accept the cost price  of a bike as input and display the road tax to be paid according to the following crieteria :-\n",
        "\n",
        "Cost price - 100000 Tax - 15%\n",
        "\n",
        "Cost price - between 50000 to 100000 Tax - 10%\n",
        "\n",
        "Cost price - less than 50000 Tax - 5%"
      ]
    },
    {
      "cell_type": "code",
      "execution_count": 29,
      "metadata": {
        "id": "TdHw-M2Z3lkL",
        "colab": {
          "base_uri": "https://localhost:8080/"
        },
        "outputId": "5a3fb403-d01f-422a-e6b2-6e6d28d3dcef"
      },
      "outputs": [
        {
          "output_type": "stream",
          "name": "stdout",
          "text": [
            "Enter the cost price of the bike: 2500\n",
            "Road Tax to be Paid: 125.0\n"
          ]
        }
      ],
      "source": [
        "cost_price = float(input(\"Enter the cost price of the bike: \"))\n",
        "if cost_price > 100000:\n",
        "    tax_rate = 15\n",
        "elif 50000 <= cost_price <= 100000:\n",
        "    tax_rate = 10\n",
        "else:\n",
        "    tax_rate = 5\n",
        "tax_amount = (tax_rate / 100) * cost_price\n",
        "print(f\"Road Tax to be Paid: {tax_amount}\")\n"
      ]
    },
    {
      "cell_type": "markdown",
      "metadata": {
        "id": "4qwB-dyV2vdv"
      },
      "source": [
        "Write a program to calculate the electricity bill by accepting the number of units consumed by the user as input. Use the following price chart for reference :-\n",
        "\n",
        "Price of first 100 units - no charge\n",
        "\n",
        "Price of next 100 units - Rs 5/- per unit\n",
        "\n",
        "After 200 units - Rs 10/- per unit"
      ]
    },
    {
      "cell_type": "code",
      "execution_count": 35,
      "metadata": {
        "id": "9CRK7oBa2rjP",
        "colab": {
          "base_uri": "https://localhost:8080/"
        },
        "outputId": "dc9d706b-a95d-4f7d-f961-9480b2fb0eb9"
      },
      "outputs": [
        {
          "output_type": "stream",
          "name": "stdout",
          "text": [
            "Enter the no. of units: 1000\n",
            "the bill will be 5000\n"
          ]
        }
      ],
      "source": [
        "units=int(input('Enter the no. of units: '))\n",
        "if units<100:\n",
        "    print('No charge will be applied')\n",
        "elif 200<units>100:\n",
        "    print('the bill will be',units*5)\n",
        "elif units>200:\n",
        "    print(\"the bill will be\",units*10)"
      ]
    }
  ],
  "metadata": {
    "colab": {
      "provenance": []
    },
    "kernelspec": {
      "display_name": "Python 3",
      "name": "python3"
    },
    "language_info": {
      "name": "python",
      "version": "3.9.2"
    }
  },
  "nbformat": 4,
  "nbformat_minor": 0
}