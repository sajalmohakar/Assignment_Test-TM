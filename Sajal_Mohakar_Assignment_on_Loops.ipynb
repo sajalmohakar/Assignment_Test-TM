{
  "cells": [
    {
      "cell_type": "markdown",
      "metadata": {
        "id": "MdAkQQ_Y4wwG"
      },
      "source": [
        "Write a program which accepts month's name as input and display the number of days in the month as output"
      ]
    },
    {
      "cell_type": "code",
      "execution_count": 30,
      "metadata": {
        "id": "5CHcmXp1CKEa",
        "colab": {
          "base_uri": "https://localhost:8080/"
        },
        "outputId": "12fc456d-e8bb-4362-e986-2302a2075175"
      },
      "outputs": [
        {
          "output_type": "stream",
          "name": "stdout",
          "text": [
            "Enter the month name:may\n",
            "May has 31 days.\n"
          ]
        }
      ],
      "source": [
        "def months():\n",
        "  month_name = {\n",
        "      \"January\": 31,\n",
        "        \"February\": 28,\n",
        "        \"March\": 31,\n",
        "        \"April\": 30,\n",
        "        \"May\": 31,\n",
        "        \"June\": 30,\n",
        "        \"July\": 31,\n",
        "        \"August\": 31,\n",
        "        \"September\": 30,\n",
        "        \"October\": 31,\n",
        "        \"November\": 30,\n",
        "        \"December\": 31\n",
        "  }\n",
        "  month = input(\"Enter the month name:\").capitalize()\n",
        "  for key in month_name:\n",
        "    if key == month:\n",
        "      print(f\"{month} has {month_name[key]} days.\")\n",
        "      return\n",
        "  print(\"Invalid month\")\n",
        "\n",
        "months()"
      ]
    },
    {
      "cell_type": "markdown",
      "metadata": {
        "id": "Q8cCBC198J6M"
      },
      "source": [
        "Take any word as input from the user and count the number of vowels in the word\n",
        "\n",
        "> Add blockquote\n",
        "\n"
      ]
    },
    {
      "cell_type": "code",
      "execution_count": 23,
      "metadata": {
        "id": "fCmmgoZfCKga",
        "colab": {
          "base_uri": "https://localhost:8080/"
        },
        "outputId": "2cb2695b-9bd8-4755-d313-271a219befb7"
      },
      "outputs": [
        {
          "output_type": "stream",
          "name": "stdout",
          "text": [
            "Enter Your Word:war\n",
            "count of vowel is 1\n"
          ]
        }
      ],
      "source": [
        "vowels=['a','e','i','o','u']\n",
        "words=input(\"Enter Your Word:\")\n",
        "for char in words:\n",
        "  if char in vowels:\n",
        "    print(f\"count of vowel is {words.count(char)}\")\n",
        "\n"
      ]
    },
    {
      "cell_type": "markdown",
      "metadata": {
        "id": "1ugWwVXd49OI"
      },
      "source": [
        "Write a program to separate even and odd numbers in two distinct lists from a list of numbers of your choice\n"
      ]
    },
    {
      "cell_type": "code",
      "execution_count": 45,
      "metadata": {
        "id": "p0MPJzU6CK6f",
        "colab": {
          "base_uri": "https://localhost:8080/"
        },
        "outputId": "244f341d-09d9-472f-ab5b-058792777592"
      },
      "outputs": [
        {
          "output_type": "stream",
          "name": "stdout",
          "text": [
            "Enter numbers separated by spaces: 1 5 2 6 8 56 68\n",
            "Original list: [1, 5, 2, 6, 8, 56, 68]\n",
            "Even numbers: [2, 6, 8, 56, 68]\n",
            "Odd numbers: [1, 5]\n"
          ]
        }
      ],
      "source": [
        "a = input(\"Enter numbers separated by spaces:\")\n",
        "\n",
        "numbers = [int(num) for num in a.split()]\n",
        "even_numbers = []\n",
        "odd_numbers = []\n",
        "\n",
        "for num in numbers:\n",
        "    if num % 2 == 0:\n",
        "        even_numbers.append(num)\n",
        "    else:\n",
        "        odd_numbers.append(num)\n",
        "\n",
        "print(\"Original list:\", numbers)\n",
        "print(\"Even no.:\", even_numbers)\n",
        "print(\"Odd no.:\", odd_numbers)\n"
      ]
    },
    {
      "cell_type": "markdown",
      "metadata": {
        "id": "uaqnGrhs49Mf"
      },
      "source": [
        "Write a program that appends datatype of elements from a list to a separate list"
      ]
    },
    {
      "cell_type": "code",
      "execution_count": 50,
      "metadata": {
        "id": "ypNro7WSCLX7",
        "colab": {
          "base_uri": "https://localhost:8080/"
        },
        "outputId": "2a158096-b34d-4b5e-c3aa-d0be7aa9d84a"
      },
      "outputs": [
        {
          "output_type": "stream",
          "name": "stdout",
          "text": [
            "[1, 23, 343]\n",
            "['sajal', 'ramesh', 'top mentor']\n"
          ]
        }
      ],
      "source": [
        "a = [1 , 'sajal', 23, \"ramesh\", 343,\"top mentor\"]\n",
        "integer_list = []\n",
        "word_list = []\n",
        "for i in a:\n",
        "  if isinstance(i, int):\n",
        "    integer_list.append(i)\n",
        "  else:\n",
        "    word_list.append(i)\n",
        "print(integer_list)\n",
        "print(word_list)\n"
      ]
    },
    {
      "cell_type": "markdown",
      "metadata": {
        "id": "ddMu0Pj1643Y"
      },
      "source": [
        "Write a program to display only those numbers from a list that satisfies the following conditions:\n",
        "\n",
        "1. The number must be divisible by 7\n",
        "\n",
        "2. If the number is 140 then skip it and move to the next number in the list\n",
        "\n",
        "3. If the number in the list is greater than 630 then stop the loop"
      ]
    },
    {
      "cell_type": "code",
      "execution_count": 60,
      "metadata": {
        "id": "230Qc9UHTK5-",
        "colab": {
          "base_uri": "https://localhost:8080/"
        },
        "outputId": "02010863-496e-4107-f238-b354220dba5d"
      },
      "outputs": [
        {
          "output_type": "stream",
          "name": "stdout",
          "text": [
            "Numbers are:\n",
            "14\n",
            "21\n",
            "35\n",
            "70\n",
            "210\n",
            "315\n",
            "420\n",
            "525\n",
            "630\n"
          ]
        }
      ],
      "source": [
        "numbers = [14, 21, 35,70,140, 210,629, 315, 420,525, 630,950,700, 770]\n",
        "\n",
        "print(\"Numbers are:\")\n",
        "for num in numbers:\n",
        "    if num > 630:\n",
        "        break\n",
        "    if num == 140:\n",
        "        continue\n",
        "    if num % 7 == 0:\n",
        "        print(num)\n",
        "\n"
      ]
    },
    {
      "cell_type": "code",
      "source": [],
      "metadata": {
        "id": "eomfQQwMSuT6"
      },
      "execution_count": null,
      "outputs": []
    }
  ],
  "metadata": {
    "colab": {
      "provenance": []
    },
    "kernelspec": {
      "display_name": "Python 3",
      "name": "python3"
    },
    "language_info": {
      "name": "python"
    }
  },
  "nbformat": 4,
  "nbformat_minor": 0
}