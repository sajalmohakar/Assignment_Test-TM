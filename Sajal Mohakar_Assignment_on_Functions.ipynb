{
  "cells": [
    {
      "cell_type": "markdown",
      "metadata": {
        "id": "SA0zwy1HTiK-"
      },
      "source": [
        "Define a function that accepts a number and returns whether the number is even or odd."
      ]
    },
    {
      "cell_type": "code",
      "execution_count": null,
      "metadata": {
        "id": "QYp14SD5p2cw"
      },
      "outputs": [],
      "source": [
        "def even_or_odd():\n",
        "    num = int(input(\"Enter a number: \"))\n",
        "    if num % 2 == 0:\n",
        "        print(\"The number is Even.\")\n",
        "    else:\n",
        "        print(\"The number is Odd.\")\n",
        "even_or_odd()        "
      ]
    },
    {
      "cell_type": "markdown",
      "metadata": {
        "id": "eFB9qeBSTxRd"
      },
      "source": [
        "Define a function to create and print a list where the values are square of numbers between 1 and 30 (both included)."
      ]
    },
    {
      "cell_type": "code",
      "execution_count": null,
      "metadata": {
        "id": "xoZ8le6R3zmW"
      },
      "outputs": [],
      "source": [
        "def squares():\n",
        "    squares = input(\"Enter a Print: \")\n",
        "    squares = [i**2 for i in range(1, 31)]\n",
        "    print(squares)\n",
        "\n",
        "squares()\n"
      ]
    },
    {
      "cell_type": "markdown",
      "metadata": {
        "id": "WPKsEW0dUIZF"
      },
      "source": [
        "Define a function, shut_down, that takes one parameter. Then, if the shut_down function receives a value equal to \"yes\", it should print \"Shutting down\". Alternatively, if vallue is equal to \"no\", then the function should print \"Shutdown aborted\". Finally, if shut_down gets anything other than those inputs, the function should print \"Sorry\"."
      ]
    },
    {
      "cell_type": "code",
      "execution_count": null,
      "metadata": {
        "id": "BErvgTSlp4BA"
      },
      "outputs": [],
      "source": [
        "def Call():\n",
        "    Call = input(\"Enter a Call: \")\n",
        "    if Call == \"Shutdown\":\n",
        "        print(\"The system is shutdown\")\n",
        "    else:\n",
        "        print(\"Shutdown Aborted\")\n",
        "\n",
        "Call()        "
      ]
    },
    {
      "cell_type": "markdown",
      "metadata": {
        "id": "KosfqTW8Ur_1"
      },
      "source": [
        "\n",
        "\n",
        "Define a function called \"by_three\" that takes a parameter called number. If that number is divisible by 3, \"by_three\" should print the cube of the number. Otherwise, by_three should print False."
      ]
    },
    {
      "cell_type": "code",
      "execution_count": null,
      "metadata": {
        "id": "ma_rcX6sp4nW"
      },
      "outputs": [],
      "source": [
        "def by_three():\n",
        "    num = int(input(\"Enter a number: \"))\n",
        "    if num % 3 == 0:\n",
        "        print(\"The Cube of Number is \",num*num*num)\n",
        "    else:\n",
        "        print(\"False\")\n",
        "by_three()        \n"
      ]
    },
    {
      "cell_type": "markdown",
      "metadata": {
        "id": "EWbQXeU5WpdZ"
      },
      "source": [
        "Define a function that takes a list and prints a new list with no duplicate elements given in the first list."
      ]
    },
    {
      "cell_type": "code",
      "execution_count": null,
      "metadata": {
        "id": "BAtCg5oY33BO"
      },
      "outputs": [],
      "source": [
        "def remove_duplicates():\n",
        "        input_list = input(\"Enter a list of elements separated by spaces: \").split()\n",
        "        unique_list = list(set(input_list))\n",
        "        print(\"List with no duplicates:\", unique_list)\n",
        "remove_duplicates()"
      ]
    }
  ],
  "metadata": {
    "colab": {
      "provenance": []
    },
    "kernelspec": {
      "display_name": "Python 3",
      "name": "python3"
    },
    "language_info": {
      "name": "python"
    }
  },
  "nbformat": 4,
  "nbformat_minor": 0
}
